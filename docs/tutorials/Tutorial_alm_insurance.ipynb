{
 "cells": [
  {
   "attachments": {},
   "cell_type": "markdown",
   "metadata": {},
   "source": [
    "# Tutorial para a execução do módulo principal"
   ]
  },
  {
   "attachments": {},
   "cell_type": "markdown",
   "metadata": {},
   "source": [
    "Inicie realizando a importação das bibliotecas e módulos necessários\n",
    "\n",
    "Os módulos auxiliares *a_exploratory.py* e *ga_mkdocs.py* necessitam estar no mesmo diretório do módulo principal, porém não precisam ser processados previamente, as execuções ocorrem dentro do módulo principal."
   ]
  },
  {
   "cell_type": "code",
   "execution_count": 2,
   "metadata": {
    "ExecuteTime": {
     "end_time": "2023-04-22T18:51:52.113078Z",
     "start_time": "2023-04-22T18:51:52.069476Z"
    },
    "collapsed": false
   },
   "outputs": [],
   "source": [
    "import itertools\n",
    "import subprocess\n",
    "\n",
    "import ga_mkdocs\n",
    "import numpy as np\n",
    "import pandas as pd\n",
    "import plotly.graph_objects as go"
   ]
  },
  {
   "attachments": {},
   "cell_type": "markdown",
   "metadata": {},
   "source": [
    "A função *main* é a função principal e a responsável pela aplicação do Algoritmo Genético. Nesta função há premissas e parâmetros considerados, a atualização de premissas e parâmetros está documentada no How-To guides, veja a seção caso queira realizar alguma modificação ou atualização de premissa e/ou parâmetro.\n",
    "\n",
    "Abaixo você pode encontrar a função completa. Na sequência será realizado o detalhamento da referida função para melhor compreendimento, porém o processamento deve ser feito considerando a função completa."
   ]
  },
  {
   "cell_type": "code",
   "execution_count": null,
   "metadata": {
    "ExecuteTime": {
     "end_time": "2023-04-22T18:51:58.615562Z",
     "start_time": "2023-04-22T18:51:58.582679Z"
    }
   },
   "outputs": [],
   "source": [
    "def main():\n",
    "    \"\"\"Função principal para executar o algoritmo genético.\"\"\"\n",
    "    # Chama a execução de outro programa\n",
    "    subprocess.call([\"python\", \"a_exploratory.py\"])\n",
    "\n",
    "    # Geração discreta de um fluxo de pagamentos (gerado aleatoriamente)\n",
    "    pagamento = [0.29, 0.20, 0.12, 0.07, 0.06, 0.05, 0.07, 0.06, 0.04, 0.01, 0.02, 0.01]\n",
    "\n",
    "    # Lê os dados dos ativos disponíveis a partir de um arquivo CSV\n",
    "    dados_ativos = pd.read_csv(\"assets_inputs.csv\")\n",
    "\n",
    "    # Vencimentos dos ativos disponíveis\n",
    "    vencimento = list(dados_ativos[\"Vencimento\"])\n",
    "\n",
    "    # Dados provenientes do balanço patrimonial da Azul Cia Gerais de Seguros S.A.\n",
    "    # publicado no veículo Monitor Mercantil\n",
    "    valor_investir = 1461073\n",
    "\n",
    "    # Rentabilidade dos ativos disponíveis\n",
    "    equation_inputs = list(dados_ativos[\"Rentabilidade\"])\n",
    "\n",
    "    num_weights = len(equation_inputs)\n",
    "\n",
    "    sol_per_pop = 20\n",
    "    num_parents_mating = 8\n",
    "    n_mut = 20\n",
    "    num_generations = 100\n",
    "    valor_max = 4000000\n",
    "\n",
    "    pop_size = (sol_per_pop, num_weights)\n",
    "\n",
    "    # Gera uma população inicial aleatória\n",
    "    pop = np.random.default_rng().integers(low=0, high=valor_max, size=pop_size)\n",
    "\n",
    "    best_outputs = []\n",
    "    aux_fit = []\n",
    "    bf_position = []\n",
    "\n",
    "    for generation in range(1, num_generations + 1):\n",
    "        print(\"Generation:\", generation)\n",
    "\n",
    "        # Calcula a aptidão de cada cromossomo na população\n",
    "        fitness = ga_mkdocs.cal_pop_fitness(\n",
    "            equation_inputs,\n",
    "            pop,\n",
    "            valor_investir,\n",
    "            vencimento,\n",
    "            pagamento,\n",
    "        )\n",
    "\n",
    "        aux = np.max(np.sum(pop * equation_inputs, axis=1))\n",
    "        best_outputs.append(aux)\n",
    "\n",
    "        fitness_gen = np.max(\n",
    "            ga_mkdocs.cal_pop_fitness(\n",
    "                equation_inputs,\n",
    "                pop,\n",
    "                valor_investir,\n",
    "                vencimento,\n",
    "                pagamento,\n",
    "            ),\n",
    "        )\n",
    "        aux_fit.append(fitness_gen)\n",
    "\n",
    "        # Seleciona os pais para a reprodução\n",
    "        parents = ga_mkdocs.select_mating_pool(pop, fitness, num_parents_mating)\n",
    "\n",
    "        aux2 = (pop_size[0] - parents.shape[0], num_weights)\n",
    "        # Realiza o cruzamento dos pais para gerar descendentes\n",
    "        offspring_crossover = ga_mkdocs.crossover(parents, offspring_size=aux2)\n",
    "\n",
    "        # Realiza a mutação nos descendentes gerados\n",
    "        offspring_mutation = ga_mkdocs.mutation(\n",
    "            offspring_crossover,\n",
    "            num_mutations=n_mut,\n",
    "        )\n",
    "\n",
    "        # Substitui parte da população atual pelos pais selecionados e descendentes\n",
    "        # mutados\n",
    "        pop[0 : parents.shape[0], :] = parents\n",
    "        pop[parents.shape[0] :, :] = offspring_mutation\n",
    "\n",
    "        best_fit_idx_gen = np.where(fitness == np.max(fitness))\n",
    "        bf_position.append(best_fit_idx_gen)\n",
    "\n",
    "        np.where(np.max(aux_fit))\n",
    "\n",
    "        estrat_aloc = pop[best_fit_idx_gen, :]\n",
    "\n",
    "    valor_resgate = np.zeros((12, 1))\n",
    "    for t, j in itertools.product(range(12), range(num_weights)):\n",
    "        if vencimento[j] == t:\n",
    "            valor_resgate[t] += (\n",
    "                estrat_aloc[0][0][j] * equation_inputs[j] + estrat_aloc[0][0][j]\n",
    "            )\n",
    "\n",
    "    # Plotar os resultados\n",
    "    x = np.linspace(0, num_generations, num_generations)\n",
    "    _extracted_from_main_109(x, best_outputs, \"Best Outputs\", \"Best Outputs\")\n",
    "    _extracted_from_main_109(x, aux_fit, \"Aux Fit\", \"Fitness\")"
   ]
  },
  {
   "attachments": {},
   "cell_type": "markdown",
   "metadata": {},
   "source": [
    "Abaixo o detalhamento da função principal *main* pode ser encontrado:"
   ]
  },
  {
   "attachments": {},
   "cell_type": "markdown",
   "metadata": {},
   "source": [
    "Realização da análise exploratória com a geração de gráficos auxiliares para a serie histórica, tipos de ativos disponíveis e respectivas rentabilidades."
   ]
  },
  {
   "cell_type": "code",
   "execution_count": null,
   "metadata": {
    "ExecuteTime": {
     "end_time": "2023-04-22T18:54:15.198847Z",
     "start_time": "2023-04-22T18:54:15.150783Z"
    }
   },
   "outputs": [],
   "source": [
    "subprocess.call([\"python\", \"a_exploratory.py\"])"
   ]
  },
  {
   "attachments": {},
   "cell_type": "markdown",
   "metadata": {},
   "source": [
    "Atribuição de premissas e parâmetros para o processamento.\n",
    "\n",
    "1. *pagamento*: é o padrão de pagamento utilizado para a modelagem das saídas de fluxo de caixa;\n",
    "\n",
    "1. *dados_ativos*: realiza a leitura do arquivo csv contendo os dados de ativos considerados para o projeto;\n",
    "\n",
    "1. *vencimento*: contempla os períodos de vencimento referentes a cada tipo de ativo;\n",
    "\n",
    "1. *valor_investir*: representa o montante total disponível a ser investido pela seguradora;\n",
    "\n",
    "1. *equation_inputs*: realiza a parametrização das rentabilidades históricas dos ativos selecionados;\n",
    "\n",
    "1. *num_weights*: realiza a leitura da quantidade de ativos selecionados"
   ]
  },
  {
   "cell_type": "code",
   "execution_count": null,
   "metadata": {},
   "outputs": [],
   "source": [
    "# Geração discreta de um fluxo de pagamentos (gerado aleatoriamente)\n",
    "    pagamento = [0.29, 0.20, 0.12, 0.07, 0.06, 0.05, 0.07, 0.06, 0.04, 0.01, 0.02, 0.01]\n",
    "\n",
    "    # Lê os dados dos ativos disponíveis a partir de um arquivo CSV\n",
    "    dados_ativos = pd.read_csv(\"assets_inputs.csv\")\n",
    "\n",
    "    # Vencimentos dos ativos disponíveis\n",
    "    vencimento = list(dados_ativos[\"Vencimento\"])\n",
    "\n",
    "    # Dados provenientes do balanço patrimonial da Azul Cia Gerais de Seguros S.A.\n",
    "    # publicado no veículo Monitor Mercantil\n",
    "    valor_investir = 1461073\n",
    "\n",
    "    # Rentabilidade dos ativos disponíveis\n",
    "    equation_inputs = list(dados_ativos[\"Rentabilidade\"])\n",
    "    \n",
    "    num_weights = len(equation_inputs)"
   ]
  },
  {
   "attachments": {},
   "cell_type": "markdown",
   "metadata": {},
   "source": [
    "Dando sequência aos parâmetros, na seção abaixo é possível encontrar a definição dos parâmetros para o Algoritmo Genético:\n",
    "\n",
    "1. *sol_per_pop*: indica a quantidade de soluções por população\n",
    "\n",
    "1. *num_parents_mating*: indica a quantidade de pais a serem selecionados para o cruzamento;\n",
    "\n",
    "1. *n_mut*: define a quantidade de mutações aplicadas;\n",
    "\n",
    "1. *num_generations*: indica a quantidade de gerações até o término do processamento;\n",
    "\n",
    "1. *valor_max*: define o valor máximo a ser investido em cada alternativa, limitando deste modo a alocação total do montante disponível em apenas uma alternativa;\n",
    "\n",
    "1. *pop_size*: define o tamanho da população considerando a quantidade de ativos disponíveis;\n",
    "\n",
    "1. *pop*: define a população inicial, a primeira estratégia de investimentos, para iniciar a aplicação do Algoritmo Genético;\n",
    "\n",
    "1. *best_outputs*: Cria o vetor nulo para as melhores saídas;\n",
    "\n",
    "1. *aux_fit*: Cria o vetor nulo para armazenar o valor do *fitness*;\n",
    "\n",
    "1. *bf_position*: Cria o vetor nulo para armazenar o valor do melhor fitness."
   ]
  },
  {
   "cell_type": "code",
   "execution_count": null,
   "metadata": {},
   "outputs": [],
   "source": [
    "sol_per_pop = 20\n",
    "num_parents_mating = 8\n",
    "n_mut = 20\n",
    "num_generations = 100\n",
    "valor_max = 4000000\n",
    "\n",
    "pop_size = (sol_per_pop, num_weights)\n",
    "\n",
    "# Gera uma população inicial aleatória\n",
    "pop = np.random.default_rng().integers(low=0, high=valor_max, size=pop_size)\n",
    "\n",
    "best_outputs = []\n",
    "aux_fit = []\n",
    "bf_position = []"
   ]
  },
  {
   "attachments": {},
   "cell_type": "markdown",
   "metadata": {},
   "source": [
    "Abaixo temos a seção da função principal onde as gerações são processadas, um iteração até o número máximo de gerações definido previamente.\n",
    "\n",
    "Nesta geração os passos são os seguintes:\n",
    "\n",
    "1. Calcula o valor do ajuste, fitness, para cada alternativa de investimento selecionada;\n",
    "    1. Lembrando que o fitness será a variável na qual as restrições incidirão.\n",
    "1. Calcula o valor máximo do fitness para a geração;\n",
    "1. Seleciona as melhores soluções, pais, de acordo com a quantidade definida e melhor fitness;\n",
    "1. Aplica a mutação na nova solução;\n",
    "1. Retorna ao passo 1 até que o limite seja atingido."
   ]
  },
  {
   "cell_type": "code",
   "execution_count": null,
   "metadata": {},
   "outputs": [],
   "source": [
    "for generation in range(1, num_generations + 1):\n",
    "    print(\"Generation:\", generation)\n",
    "\n",
    "    # Calcula a aptidão de cada cromossomo na população\n",
    "    fitness = ga_mkdocs.cal_pop_fitness(\n",
    "        equation_inputs,\n",
    "        pop,\n",
    "        valor_investir,\n",
    "        vencimento,\n",
    "        pagamento,\n",
    "    )\n",
    "\n",
    "    aux = np.max(np.sum(pop * equation_inputs, axis=1))\n",
    "    best_outputs.append(aux)\n",
    "\n",
    "    fitness_gen = np.max(\n",
    "        ga_mkdocs.cal_pop_fitness(\n",
    "            equation_inputs,\n",
    "            pop,\n",
    "            valor_investir,\n",
    "            vencimento,\n",
    "            pagamento,\n",
    "        ),\n",
    "    )\n",
    "    aux_fit.append(fitness_gen)\n",
    "\n",
    "    # Seleciona os pais para a reprodução\n",
    "    parents = ga_mkdocs.select_mating_pool(pop, fitness, num_parents_mating)\n",
    "\n",
    "    aux2 = (pop_size[0] - parents.shape[0], num_weights)\n",
    "    # Realiza o cruzamento dos pais para gerar descendentes\n",
    "    offspring_crossover = ga_mkdocs.crossover(parents, offspring_size=aux2)\n",
    "\n",
    "    # Realiza a mutação nos descendentes gerados\n",
    "    offspring_mutation = ga_mkdocs.mutation(\n",
    "        offspring_crossover,\n",
    "        num_mutations=n_mut,\n",
    "    )\n",
    "\n",
    "    # Substitui parte da população atual pelos pais selecionados e descendentes\n",
    "    # mutados\n",
    "    pop[0 : parents.shape[0], :] = parents\n",
    "    pop[parents.shape[0] :, :] = offspring_mutation\n",
    "\n",
    "    best_fit_idx_gen = np.where(fitness == np.max(fitness))\n",
    "    bf_position.append(best_fit_idx_gen)\n",
    "\n",
    "    np.where(np.max(aux_fit))\n",
    "\n",
    "    estrat_aloc = pop[best_fit_idx_gen, :]"
   ]
  },
  {
   "attachments": {},
   "cell_type": "markdown",
   "metadata": {},
   "source": [
    "Após o processamento das gerações, os valores de resgate são extraídos para o vetor *valor_resgate*"
   ]
  },
  {
   "cell_type": "code",
   "execution_count": null,
   "metadata": {},
   "outputs": [],
   "source": [
    "valor_resgate = np.zeros((12, 1))\n",
    "for t, j in itertools.product(range(12), range(num_weights)):\n",
    "    if vencimento[j] == t:\n",
    "        valor_resgate[t] += (\n",
    "            estrat_aloc[0][0][j] * equation_inputs[j] + estrat_aloc[0][0][j]\n",
    "        )"
   ]
  },
  {
   "attachments": {},
   "cell_type": "markdown",
   "metadata": {},
   "source": [
    "Ao término do processamento, a evolução da melhor saída bem como a evolução da função de aderência, fitness, são inseridas em gráficos para avaliação do resultado encontrado e a execução chega ao fim."
   ]
  },
  {
   "cell_type": "code",
   "execution_count": null,
   "metadata": {},
   "outputs": [],
   "source": [
    "    # Plotar os resultados\n",
    "    x = np.linspace(0, num_generations, num_generations)\n",
    "    _extracted_from_main_109(x, best_outputs, \"Best Outputs\", \"Best Outputs\")\n",
    "    _extracted_from_main_109(x, aux_fit, \"Aux Fit\", \"Fitness\")\n",
    "\n",
    "\n",
    "# TODO Rename this here and in `main`\n",
    "def _extracted_from_main_109(x, y, title, yaxis_title):\n",
    "    result = go.Figure()\n",
    "\n",
    "    result.add_trace(go.Scatter(x=x, y=y, mode=\"lines\"))\n",
    "\n",
    "    result.update_layout(title=title, xaxis_title=\"Generation\", yaxis_title=yaxis_title)\n",
    "    result.show()\n",
    "\n",
    "    return result\n",
    "\n",
    "\n",
    "if __name__ == \"__main__\":\n",
    "    main()"
   ]
  }
 ],
 "metadata": {
  "kernelspec": {
   "display_name": "fico-hPM1Un3y-py3.11",
   "language": "python",
   "name": "python3"
  },
  "language_info": {
   "codemirror_mode": {
    "name": "ipython",
    "version": 3
   },
   "file_extension": ".py",
   "mimetype": "text/x-python",
   "name": "python",
   "nbconvert_exporter": "python",
   "pygments_lexer": "ipython3",
   "version": "3.11.3"
  },
  "orig_nbformat": 4
 },
 "nbformat": 4,
 "nbformat_minor": 2
}
